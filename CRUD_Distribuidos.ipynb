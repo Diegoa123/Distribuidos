{
  "nbformat": 4,
  "nbformat_minor": 0,
  "metadata": {
    "colab": {
      "provenance": [],
      "collapsed_sections": []
    },
    "kernelspec": {
      "name": "python3",
      "display_name": "Python 3"
    },
    "language_info": {
      "name": "python"
    }
  },
  "cells": [
    {
      "cell_type": "code",
      "source": [
        "pip install firebase\n"
      ],
      "metadata": {
        "colab": {
          "base_uri": "https://localhost:8080/"
        },
        "id": "K46oB4jT039C",
        "outputId": "e2fd6e89-e179-454c-97bb-2c5e065b2eb9"
      },
      "execution_count": null,
      "outputs": [
        {
          "output_type": "stream",
          "name": "stdout",
          "text": [
            "Looking in indexes: https://pypi.org/simple, https://us-python.pkg.dev/colab-wheels/public/simple/\n",
            "Collecting firebase\n",
            "  Downloading firebase-3.0.1-py3-none-any.whl (18 kB)\n",
            "Requirement already satisfied: requests in /usr/local/lib/python3.7/dist-packages (from firebase) (2.23.0)\n",
            "Requirement already satisfied: certifi>=2017.4.17 in /usr/local/lib/python3.7/dist-packages (from requests->firebase) (2022.9.24)\n",
            "Requirement already satisfied: idna<3,>=2.5 in /usr/local/lib/python3.7/dist-packages (from requests->firebase) (2.10)\n",
            "Requirement already satisfied: urllib3!=1.25.0,!=1.25.1,<1.26,>=1.21.1 in /usr/local/lib/python3.7/dist-packages (from requests->firebase) (1.24.3)\n",
            "Requirement already satisfied: chardet<4,>=3.0.2 in /usr/local/lib/python3.7/dist-packages (from requests->firebase) (3.0.4)\n",
            "Installing collected packages: firebase\n",
            "Successfully installed firebase-3.0.1\n"
          ]
        }
      ]
    },
    {
      "cell_type": "code",
      "source": [
        "pip install gcloud"
      ],
      "metadata": {
        "colab": {
          "base_uri": "https://localhost:8080/"
        },
        "id": "9Wp9-0QO05Jy",
        "outputId": "68dd8720-07e9-4efd-f91d-8f7dc7ee4c98"
      },
      "execution_count": null,
      "outputs": [
        {
          "output_type": "stream",
          "name": "stdout",
          "text": [
            "Looking in indexes: https://pypi.org/simple, https://us-python.pkg.dev/colab-wheels/public/simple/\n",
            "Collecting gcloud\n",
            "  Downloading gcloud-0.18.3.tar.gz (454 kB)\n",
            "\u001b[K     |████████████████████████████████| 454 kB 7.2 MB/s \n",
            "\u001b[?25hRequirement already satisfied: httplib2>=0.9.1 in /usr/local/lib/python3.7/dist-packages (from gcloud) (0.17.4)\n",
            "Requirement already satisfied: googleapis-common-protos in /usr/local/lib/python3.7/dist-packages (from gcloud) (1.56.4)\n",
            "Requirement already satisfied: oauth2client>=2.0.1 in /usr/local/lib/python3.7/dist-packages (from gcloud) (4.1.3)\n",
            "Requirement already satisfied: protobuf!=3.0.0.b2.post1,>=3.0.0b2 in /usr/local/lib/python3.7/dist-packages (from gcloud) (3.17.3)\n",
            "Requirement already satisfied: six in /usr/local/lib/python3.7/dist-packages (from gcloud) (1.15.0)\n",
            "Requirement already satisfied: pyasn1-modules>=0.0.5 in /usr/local/lib/python3.7/dist-packages (from oauth2client>=2.0.1->gcloud) (0.2.8)\n",
            "Requirement already satisfied: pyasn1>=0.1.7 in /usr/local/lib/python3.7/dist-packages (from oauth2client>=2.0.1->gcloud) (0.4.8)\n",
            "Requirement already satisfied: rsa>=3.1.4 in /usr/local/lib/python3.7/dist-packages (from oauth2client>=2.0.1->gcloud) (4.9)\n",
            "Building wheels for collected packages: gcloud\n",
            "  Building wheel for gcloud (setup.py) ... \u001b[?25l\u001b[?25hdone\n",
            "  Created wheel for gcloud: filename=gcloud-0.18.3-py3-none-any.whl size=602937 sha256=9cfa2a20b3c96bdce3e24f8e5858e17a4ec07978c606e3954519795522a48b4e\n",
            "  Stored in directory: /root/.cache/pip/wheels/50/9d/19/dc1a639905431252dbf8a61388a83459c5cfef7add445bebe4\n",
            "Successfully built gcloud\n",
            "Installing collected packages: gcloud\n",
            "Successfully installed gcloud-0.18.3\n"
          ]
        }
      ]
    },
    {
      "cell_type": "code",
      "source": [
        "pip install sseclient\n"
      ],
      "metadata": {
        "colab": {
          "base_uri": "https://localhost:8080/"
        },
        "id": "xHt0pv9b05QJ",
        "outputId": "7619ea57-3a11-43e7-a611-850175451374"
      },
      "execution_count": null,
      "outputs": [
        {
          "output_type": "stream",
          "name": "stdout",
          "text": [
            "Looking in indexes: https://pypi.org/simple, https://us-python.pkg.dev/colab-wheels/public/simple/\n",
            "Collecting sseclient\n",
            "  Downloading sseclient-0.0.27.tar.gz (7.5 kB)\n",
            "Requirement already satisfied: requests>=2.9 in /usr/local/lib/python3.7/dist-packages (from sseclient) (2.23.0)\n",
            "Requirement already satisfied: six in /usr/local/lib/python3.7/dist-packages (from sseclient) (1.15.0)\n",
            "Requirement already satisfied: certifi>=2017.4.17 in /usr/local/lib/python3.7/dist-packages (from requests>=2.9->sseclient) (2022.9.24)\n",
            "Requirement already satisfied: idna<3,>=2.5 in /usr/local/lib/python3.7/dist-packages (from requests>=2.9->sseclient) (2.10)\n",
            "Requirement already satisfied: urllib3!=1.25.0,!=1.25.1,<1.26,>=1.21.1 in /usr/local/lib/python3.7/dist-packages (from requests>=2.9->sseclient) (1.24.3)\n",
            "Requirement already satisfied: chardet<4,>=3.0.2 in /usr/local/lib/python3.7/dist-packages (from requests>=2.9->sseclient) (3.0.4)\n",
            "Building wheels for collected packages: sseclient\n",
            "  Building wheel for sseclient (setup.py) ... \u001b[?25l\u001b[?25hdone\n",
            "  Created wheel for sseclient: filename=sseclient-0.0.27-py3-none-any.whl size=5584 sha256=bb0f64f4a4effe5896524d936efb09e089228efda8675249ece7a6b6dc28122d\n",
            "  Stored in directory: /root/.cache/pip/wheels/07/67/7e/96edf627ac746de1a5c5cbb8d59ed960f033b8352dc12c545d\n",
            "Successfully built sseclient\n",
            "Installing collected packages: sseclient\n",
            "Successfully installed sseclient-0.0.27\n"
          ]
        }
      ]
    },
    {
      "cell_type": "code",
      "source": [
        "pip install pycrypto\n"
      ],
      "metadata": {
        "colab": {
          "base_uri": "https://localhost:8080/"
        },
        "id": "JXz9XQPk1bYB",
        "outputId": "c435e15e-3adc-4a53-b479-54615d71e56a"
      },
      "execution_count": null,
      "outputs": [
        {
          "output_type": "stream",
          "name": "stdout",
          "text": [
            "Looking in indexes: https://pypi.org/simple, https://us-python.pkg.dev/colab-wheels/public/simple/\n",
            "Collecting pycrypto\n",
            "  Downloading pycrypto-2.6.1.tar.gz (446 kB)\n",
            "\u001b[K     |████████████████████████████████| 446 kB 8.2 MB/s \n",
            "\u001b[?25hBuilding wheels for collected packages: pycrypto\n",
            "  Building wheel for pycrypto (setup.py) ... \u001b[?25l\u001b[?25hdone\n",
            "  Created wheel for pycrypto: filename=pycrypto-2.6.1-cp37-cp37m-linux_x86_64.whl size=499932 sha256=5a457c560297bf2a51e9cc476372a9ee99b5e794e7c7e9cefed14f38c430f31c\n",
            "  Stored in directory: /root/.cache/pip/wheels/cf/85/ba/bbd7c96add459de7598fb424e5ff2309baf2095c844ac0f191\n",
            "Successfully built pycrypto\n",
            "Installing collected packages: pycrypto\n",
            "Successfully installed pycrypto-2.6.1\n"
          ]
        }
      ]
    },
    {
      "cell_type": "code",
      "source": [
        "pip install requests-toolbelt"
      ],
      "metadata": {
        "colab": {
          "base_uri": "https://localhost:8080/"
        },
        "id": "HUs1EGsg1d6i",
        "outputId": "9e7c034c-124e-461a-a723-175f533284fa"
      },
      "execution_count": null,
      "outputs": [
        {
          "output_type": "stream",
          "name": "stdout",
          "text": [
            "Looking in indexes: https://pypi.org/simple, https://us-python.pkg.dev/colab-wheels/public/simple/\n",
            "Collecting requests-toolbelt\n",
            "  Downloading requests_toolbelt-0.10.1-py2.py3-none-any.whl (54 kB)\n",
            "\u001b[K     |████████████████████████████████| 54 kB 2.1 MB/s \n",
            "\u001b[?25hRequirement already satisfied: requests<3.0.0,>=2.0.1 in /usr/local/lib/python3.7/dist-packages (from requests-toolbelt) (2.23.0)\n",
            "Requirement already satisfied: certifi>=2017.4.17 in /usr/local/lib/python3.7/dist-packages (from requests<3.0.0,>=2.0.1->requests-toolbelt) (2022.9.24)\n",
            "Requirement already satisfied: chardet<4,>=3.0.2 in /usr/local/lib/python3.7/dist-packages (from requests<3.0.0,>=2.0.1->requests-toolbelt) (3.0.4)\n",
            "Requirement already satisfied: urllib3!=1.25.0,!=1.25.1,<1.26,>=1.21.1 in /usr/local/lib/python3.7/dist-packages (from requests<3.0.0,>=2.0.1->requests-toolbelt) (1.24.3)\n",
            "Requirement already satisfied: idna<3,>=2.5 in /usr/local/lib/python3.7/dist-packages (from requests<3.0.0,>=2.0.1->requests-toolbelt) (2.10)\n",
            "Installing collected packages: requests-toolbelt\n",
            "Successfully installed requests-toolbelt-0.10.1\n"
          ]
        }
      ]
    },
    {
      "cell_type": "code",
      "source": [
        "\n",
        "pip install python_jwt"
      ],
      "metadata": {
        "colab": {
          "base_uri": "https://localhost:8080/"
        },
        "id": "DLsSB6ij1294",
        "outputId": "d998ab52-58d5-481b-ef19-fc180d71c99d"
      },
      "execution_count": null,
      "outputs": [
        {
          "output_type": "stream",
          "name": "stdout",
          "text": [
            "Looking in indexes: https://pypi.org/simple, https://us-python.pkg.dev/colab-wheels/public/simple/\n",
            "Collecting python_jwt\n",
            "  Downloading python_jwt-4.0.0-py2.py3-none-any.whl (7.0 kB)\n",
            "Collecting jwcrypto>=1.4.2\n",
            "  Downloading jwcrypto-1.4.2.tar.gz (85 kB)\n",
            "\u001b[K     |████████████████████████████████| 85 kB 2.4 MB/s \n",
            "\u001b[?25hCollecting cryptography>=2.3\n",
            "  Downloading cryptography-38.0.3-cp36-abi3-manylinux_2_24_x86_64.whl (4.1 MB)\n",
            "\u001b[K     |████████████████████████████████| 4.1 MB 35.7 MB/s \n",
            "\u001b[?25hCollecting deprecated\n",
            "  Downloading Deprecated-1.2.13-py2.py3-none-any.whl (9.6 kB)\n",
            "Requirement already satisfied: cffi>=1.12 in /usr/local/lib/python3.7/dist-packages (from cryptography>=2.3->jwcrypto>=1.4.2->python_jwt) (1.15.1)\n",
            "Requirement already satisfied: pycparser in /usr/local/lib/python3.7/dist-packages (from cffi>=1.12->cryptography>=2.3->jwcrypto>=1.4.2->python_jwt) (2.21)\n",
            "Requirement already satisfied: wrapt<2,>=1.10 in /usr/local/lib/python3.7/dist-packages (from deprecated->jwcrypto>=1.4.2->python_jwt) (1.14.1)\n",
            "Building wheels for collected packages: jwcrypto\n",
            "  Building wheel for jwcrypto (setup.py) ... \u001b[?25l\u001b[?25hdone\n",
            "  Created wheel for jwcrypto: filename=jwcrypto-1.4.2-py3-none-any.whl size=90487 sha256=e0998df0ce2cc99657670e442f7e1185e4d5e35103b36fe9651c4e7ad3e20799\n",
            "  Stored in directory: /root/.cache/pip/wheels/3d/17/91/970881ac21abbb42718c291ac9dce175450d53b17707788273\n",
            "Successfully built jwcrypto\n",
            "Installing collected packages: deprecated, cryptography, jwcrypto, python-jwt\n",
            "Successfully installed cryptography-38.0.3 deprecated-1.2.13 jwcrypto-1.4.2 python-jwt-4.0.0\n"
          ]
        }
      ]
    },
    {
      "cell_type": "code",
      "source": [
        "from firebase import firebase"
      ],
      "metadata": {
        "id": "PSASSl7O1maJ"
      },
      "execution_count": null,
      "outputs": []
    },
    {
      "cell_type": "code",
      "source": [
        "firebase =firebase.FirebaseApplication(\"https://crud-distribuidos-default-rtdb.firebaseio.com/\",None)"
      ],
      "metadata": {
        "id": "GzhPuZhVyysS"
      },
      "execution_count": null,
      "outputs": []
    },
    {
      "cell_type": "code",
      "source": [
        "#llenar base de datos  Metodo POST\n",
        "bandera=True\n",
        "while bandera==True:\n",
        "  id=input(\"Digite id: \")\n",
        "  nombre=input(\"Ingrese nombre: \")\n",
        "  apellido=input(\"Ingrese apellido: \")\n",
        "  datos={\n",
        "      'Id':id,\n",
        "    'Nombre':nombre,\n",
        "     'Apellido':apellido\n",
        "  }\n",
        "  resultado=firebase.post('/firebase/datos_P',datos)\n",
        "  cambio=input(\"Digite 1 para agregar otro dato, de lo contrario digite otro numero\")\n",
        "  if cambio!='1':\n",
        "    bandera=False\n",
        "    print(\"No se guardarán mas datos en la nube.\")"
      ],
      "metadata": {
        "id": "DuhUQeiqzIPj",
        "colab": {
          "base_uri": "https://localhost:8080/"
        },
        "outputId": "2bba5f11-9551-4523-9b78-019e9743535b"
      },
      "execution_count": null,
      "outputs": [
        {
          "output_type": "stream",
          "name": "stdout",
          "text": [
            "Digite id: Jose\n",
            "Ingrese nombre: Jose\n",
            "Ingrese apellido: Ramo\n",
            "Digite 1 para agregar otro dato, de lo contrario digite otro numero\n",
            "No se guardarán mas datos en la nube.\n"
          ]
        }
      ]
    },
    {
      "cell_type": "code",
      "source": [
        "# Leer la base de datos     Metodo get.\n",
        "leer=firebase.get('/firebase/datos_P','')\n",
        "buscar=input(\"Digite el id que desea ver: \")\n",
        "claves=list(leer.values())\n",
        "\n",
        "for i in range(len(leer)):\n",
        "  datos=list(claves[i].values())\n",
        "  if datos[1]==buscar:\n",
        "    print(datos)\n",
        "    break\n",
        "  "
      ],
      "metadata": {
        "id": "lQWEhZr6zhx6",
        "colab": {
          "base_uri": "https://localhost:8080/"
        },
        "outputId": "b271e987-4d6f-4af6-e3dc-c48ef825a113"
      },
      "execution_count": null,
      "outputs": [
        {
          "name": "stdout",
          "output_type": "stream",
          "text": [
            "DIgite el id que desea ver: 3\n"
          ]
        }
      ]
    },
    {
      "cell_type": "code",
      "source": [
        "# Editar registros    Metodo PUT\n",
        "cambio=input('digite 1 para cambiar id,\\ndigite 2 para cambiar nombre\\ndigite 3 para cambiar apellido: \\n')\n",
        "if cambio=='1':\n",
        "  valor=input('digite el nuevo valor: ')\n",
        "  firebase.put('/firebase/datos_P/-NFvz_EjnmCQGhMGPuNR','Id',valor)\n",
        "elif cambio=='2':\n",
        "  valor=input('digite el nuevo valor: ')\n",
        "  firebase.put('/firebase/datos_P/-NFvz_EjnmCQGhMGPuNR','Nombre',valor)\n",
        "elif cambio=='3':\n",
        "  valor=input('digite el nuevo valor: ')\n",
        "  firebase.put('/firebase/datos_P/-NFvz_EjnmCQGhMGPuNR','Apellido',valor)\n",
        "else:\n",
        "  print('Parametro no valido')\n",
        "\n",
        "\n"
      ],
      "metadata": {
        "colab": {
          "base_uri": "https://localhost:8080/"
        },
        "id": "ipPI9Hhw68HA",
        "outputId": "7be63720-3a29-48a9-a9b8-39e7fe731f52"
      },
      "execution_count": null,
      "outputs": [
        {
          "output_type": "stream",
          "name": "stdout",
          "text": [
            "digite 1 para cambiar id,\n",
            "digite 2 para cambiar nombre\n",
            "digite 3 para cambiar apellido: \n",
            "\n",
            "Parametro no valido\n"
          ]
        }
      ]
    },
    {
      "cell_type": "code",
      "source": [
        "# Eliminar  Metodo DELETE\n",
        "llave=input('Ingrese la llave que desea eliminar: ')\n",
        "firebase.delete('/firebase/datos_P',llave)\n",
        "print('Dato eliminado')"
      ],
      "metadata": {
        "colab": {
          "base_uri": "https://localhost:8080/"
        },
        "id": "vVTiZLjx92pP",
        "outputId": "310f93e0-c79e-4ae3-e86a-40b7b874ff05"
      },
      "execution_count": null,
      "outputs": [
        {
          "output_type": "stream",
          "name": "stdout",
          "text": [
            "Ingrese la llave que desea eliminar: -NFvugpa8bwxU_kQSAKx\n",
            "Dato eliminado\n"
          ]
        }
      ]
    }
  ]
}